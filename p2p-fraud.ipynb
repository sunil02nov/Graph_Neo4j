{
 "cells": [
  {
   "cell_type": "markdown",
   "metadata": {},
   "source": [
    "# Improve machine learning predictions with Neo4j Graph Data Science library\n",
    "## Utilize graph algorithms in Neo4j to extract graph-based features to improve the accuracy of machine learning models\n",
    "\n",
    "A wave of graph-based approaches to data science and machine learning is rising. We live in an era where the exponential growth of graph technology is predicted. The ability to analyze data points through the context of their relationships enables more profound and accurate data exploration and predictions. To help you catch the rising wave of graph machine learning, I have prepared a simple demonstration where I show how using graph-based features can increase the accuracy of a machine learning model.\n",
    "We will be using an anonymized dataset from a P2P payment platform throughout this blog post.\n",
    "\n",
    "The users are in the center of the graph. Throughout their stay on the P2P platform, they could have used multiple credit cards and various devices from multiple IPs. The main feature of the P2P payment platform is that users can send money to other users. Every transaction between users is represented as the P2P relationship, where the date and the amount is described. There could be multiple transactions between a single pair of users going in both directions.\n",
    "\n",
    "Some of the users are labeled as fraud risks. Therefore, we can use the fraud risk label to train a supervised classification model to perform fraud detection. In this blog post, we will first use non-graphy features to train the classification model and then, in the second part, try to improve the model's accuracy by including some graph-based features like the PageRank centrality.\n",
    "\n",
    "### Prepare the Neo4j environment\n",
    "\n",
    "We will be using Neo4j as the source of truth to train the ML model. Therefore, I suggest you download and install the [Neo4j Desktop application](https://neo4j.com/download/) if you want to follow along with the code examples.\n",
    "The dataset is available as a database dump. It is a variation of the database dump available on Neo4j's [product example GitHub to showcase fraud detection](https://github.com/neo4j-product-examples/demo-fraud-detection-with-p2p). I have added the fraud risk labels as described in the [second part of the Exploring fraud detection series](https://neo4j.com/developer-blog/exploring-fraud-detection-neo4j-graph-data-science-part-2/), so you don't have to deal with it. You can download the updated database dump by clicking on [this link](https://drive.google.com/file/d/1_N_QLtCRI-eeLzjEIFZAbj8YQrWfTolI/view?usp=sharing).\n",
    "I've written a [post about restoring a database dump in Neo4j Desktop](https://tbgraph.wordpress.com/2020/11/11/dump-and-load-a-database-in-neo4j-desktop/) sometime ago if you need some help. After you have restored the database dump, you will also need to install the Graph Data Science and APOC libraries. Make sure you are using version 2.0.0 of the GDS or later.\n",
    "\n",
    "### Neo4j Graph Data Science Python client\n",
    "Neo4j team released an official Python client for the Graph Data Science library alongside the recent upgrade of the library to version 2.0. Since this is the first time I will be using the Python client for GDS in my blog, I will dedicate a bit more time to it and explain how it works.\n",
    "First, you need to install the library. You can simply run the following command to install the latest deployed version of the GDS Python client.\n",
    "```\n",
    "pip install graphdatascience\n",
    "```\n",
    "Once you have installed the library, you need to input the Neo4j's credentials to define a connection to the database."
   ]
  },
  {
   "cell_type": "code",
   "execution_count": 1,
   "metadata": {},
   "outputs": [
    {
     "name": "stdout",
     "output_type": "stream",
     "text": [
      "2.0.3\n"
     ]
    }
   ],
   "source": [
    "from graphdatascience import GraphDataScience\n",
    "\n",
    "host = \"bolt://localhost:7687\"\n",
    "user = \"neo4j\"\n",
    "password= \"password\"\n",
    "\n",
    "gds = GraphDataScience(host, auth=(user, password))\n",
    "\n",
    "print(gds.version())"
   ]
  },
  {
   "cell_type": "markdown",
   "metadata": {},
   "source": [
    "In the example I've seen, the first thing one usually does is to execute the print(gds.version()) line to verify that the connection is valid and the target database has the Graph Data Science library installed.\n",
    "### Exploring the dataset\n",
    "We will begin with simple data exploration. First, we will count the number of transactions by year from the database using the run_cypher method. The run_cypher method allows you to execute Cypher statements to retrieve data from the database and return a Pandas dataframe."
   ]
  },
  {
   "cell_type": "code",
   "execution_count": 2,
   "metadata": {},
   "outputs": [
    {
     "data": {
      "text/plain": [
       "<matplotlib.axes._subplots.AxesSubplot at 0x7fa6be99fd90>"
      ]
     },
     "execution_count": 2,
     "metadata": {},
     "output_type": "execute_result"
    },
    {
     "data": {
      "image/png": "[encoded data removed]",
      "text/plain": [
       "<Figure size 720x432 with 1 Axes>"
      ]
     },
     "metadata": {
      "needs_background": "light"
     },
     "output_type": "display_data"
    }
   ],
   "source": [
    "import matplotlib.pyplot as plt\n",
    "plt.rcParams['figure.figsize'] = [10, 6]\n",
    "import seaborn as sns\n",
    "\n",
    "time = gds.run_cypher(\"\"\"\n",
    "MATCH p=()-[r:P2P]->()\n",
    "RETURN r.transactionDateTime.year AS year, count(*) AS countOfTransactions\n",
    "ORDER BY year\n",
    "\"\"\")\n",
    "\n",
    "sns.barplot(x=\"year\", y=\"countOfTransactions\", data=time)"
   ]
  },
  {
   "cell_type": "markdown",
   "metadata": {},
   "source": [
    "There were more than 50 thousand transactions in 2017, with a slight drop to slightly less than 40 transactions in 2018. I would venture a guess that we don't have all the transactions from 2019 as there are only 10 thousand transactions available in the dataset.\n",
    "\n",
    "Our baseline classification model will contain only non-graph-based features. Therefore, we will begin by exploring various features like the number of devices, credit cards, and total and average incoming and outgoing amounts per user. We will stay clear of using the graph algorithm available in the Neo4j Graph Data Science library for now."
   ]
  },
  {
   "cell_type": "code",
   "execution_count": 3,
   "metadata": {},
   "outputs": [],
   "source": [
    "df = gds.run_cypher(\"\"\"\n",
    "MATCH (u:User)\n",
    "CALL { \n",
    "  WITH u \n",
    "  MATCH (u)-[out:P2P]->() \n",
    "  RETURN sum(out.totalAmount) as totalOutgoingAmount, max(out.totalAmount) as maxOutgoingAmount, \n",
    "           avg(out.totalAmount) as avgOutgoingAmount, count(out) as outgoingTransactions\n",
    "}\n",
    "CALL { \n",
    "  WITH u \n",
    "  MATCH (u)<-[in:P2P]-() \n",
    "  RETURN sum(in.totalAmount) as totalIncomingAmount, max(in.totalAmount) as maxIncomingAmount, \n",
    "           avg(in.totalAmount) as avgIncomingAmount, count(in) as incomingTransactions\n",
    "}\n",
    "     \n",
    "RETURN u.guid AS user_id,\n",
    "       u.fraudRisk AS fraudRisk,\n",
    "       size((u)-[:USED]->()) AS numberOfDevices,\n",
    "       size((u)-[:HAS_CC]->()) AS numberOfCCs,\n",
    "       size((u)-[:HAS_IP]->()) AS numberOfIps,\n",
    "       coalesce(totalOutgoingAmount, 0) AS totalOutgoingAmount, \n",
    "       coalesce(avgOutgoingAmount, 0) AS avgOutgoingAmount,\n",
    "       coalesce(maxOutgoingAmount, 0) AS maxOutgoingAmount,\n",
    "       outgoingTransactions,\n",
    "       coalesce(totalIncomingAmount, 0) AS totalIncomingAmount,\n",
    "       coalesce(avgIncomingAmount, 0) AS avgIncomingAmount,\n",
    "       coalesce(maxIncomingAmount, 0) AS maxIncomingAmount,\n",
    "       incomingTransactions\n",
    "\"\"\")"
   ]
  },
  {
   "cell_type": "code",
   "execution_count": 4,
   "metadata": {},
   "outputs": [
    {
     "data": {
      "text/html": [
       "<div>\n",
       "<style scoped>\n",
       "    .dataframe tbody tr th:only-of-type {\n",
       "        vertical-align: middle;\n",
       "    }\n",
       "\n",
       "    .dataframe tbody tr th {\n",
       "        vertical-align: top;\n",
       "    }\n",
       "\n",
       "    .dataframe thead th {\n",
       "        text-align: right;\n",
       "    }\n",
       "</style>\n",
       "<table border=\"1\" class=\"dataframe\">\n",
       "  <thead>\n",
       "    <tr style=\"text-align: right;\">\n",
       "      <th></th>\n",
       "      <th>user_id</th>\n",
       "      <th>fraudRisk</th>\n",
       "      <th>numberOfDevices</th>\n",
       "      <th>numberOfCCs</th>\n",
       "      <th>numberOfIps</th>\n",
       "      <th>totalOutgoingAmount</th>\n",
       "      <th>avgOutgoingAmount</th>\n",
       "      <th>maxOutgoingAmount</th>\n",
       "      <th>outgoingTransactions</th>\n",
       "      <th>totalIncomingAmount</th>\n",
       "      <th>avgIncomingAmount</th>\n",
       "      <th>maxIncomingAmount</th>\n",
       "      <th>incomingTransactions</th>\n",
       "    </tr>\n",
       "  </thead>\n",
       "  <tbody>\n",
       "    <tr>\n",
       "      <th>0</th>\n",
       "      <td>6f5ff01e3c3d9213b330c1a36e4e0d56</td>\n",
       "      <td>0</td>\n",
       "      <td>1</td>\n",
       "      <td>5</td>\n",
       "      <td>73</td>\n",
       "      <td>2272.0</td>\n",
       "      <td>98.782609</td>\n",
       "      <td>300.0</td>\n",
       "      <td>23</td>\n",
       "      <td>1000.00</td>\n",
       "      <td>83.333333</td>\n",
       "      <td>170.00</td>\n",
       "      <td>12</td>\n",
       "    </tr>\n",
       "    <tr>\n",
       "      <th>1</th>\n",
       "      <td>42489b0de3619b7558c170791fda29c3</td>\n",
       "      <td>0</td>\n",
       "      <td>1</td>\n",
       "      <td>8</td>\n",
       "      <td>88</td>\n",
       "      <td>100.0</td>\n",
       "      <td>100.000000</td>\n",
       "      <td>100.0</td>\n",
       "      <td>1</td>\n",
       "      <td>100.00</td>\n",
       "      <td>100.000000</td>\n",
       "      <td>100.00</td>\n",
       "      <td>1</td>\n",
       "    </tr>\n",
       "    <tr>\n",
       "      <th>2</th>\n",
       "      <td>227146a1ca295356b58e812e00490df5</td>\n",
       "      <td>0</td>\n",
       "      <td>1</td>\n",
       "      <td>13</td>\n",
       "      <td>171</td>\n",
       "      <td>206.0</td>\n",
       "      <td>206.000000</td>\n",
       "      <td>206.0</td>\n",
       "      <td>1</td>\n",
       "      <td>206.00</td>\n",
       "      <td>206.000000</td>\n",
       "      <td>206.00</td>\n",
       "      <td>1</td>\n",
       "    </tr>\n",
       "    <tr>\n",
       "      <th>3</th>\n",
       "      <td>665c3c081e8993803548d971b4e1814b</td>\n",
       "      <td>0</td>\n",
       "      <td>1</td>\n",
       "      <td>2</td>\n",
       "      <td>6</td>\n",
       "      <td>122.0</td>\n",
       "      <td>122.000000</td>\n",
       "      <td>122.0</td>\n",
       "      <td>1</td>\n",
       "      <td>167.22</td>\n",
       "      <td>83.610000</td>\n",
       "      <td>117.22</td>\n",
       "      <td>2</td>\n",
       "    </tr>\n",
       "    <tr>\n",
       "      <th>4</th>\n",
       "      <td>fda32eea75f7aab6b81f0654dd2120d0</td>\n",
       "      <td>0</td>\n",
       "      <td>1</td>\n",
       "      <td>7</td>\n",
       "      <td>39</td>\n",
       "      <td>0.0</td>\n",
       "      <td>0.000000</td>\n",
       "      <td>0.0</td>\n",
       "      <td>0</td>\n",
       "      <td>210.00</td>\n",
       "      <td>105.000000</td>\n",
       "      <td>200.00</td>\n",
       "      <td>2</td>\n",
       "    </tr>\n",
       "  </tbody>\n",
       "</table>\n",
       "</div>"
      ],
      "text/plain": [
       "                            user_id  fraudRisk  numberOfDevices  numberOfCCs  \\\n",
       "0  6f5ff01e3c3d9213b330c1a36e4e0d56          0                1            5   \n",
       "1  42489b0de3619b7558c170791fda29c3          0                1            8   \n",
       "2  227146a1ca295356b58e812e00490df5          0                1           13   \n",
       "3  665c3c081e8993803548d971b4e1814b          0                1            2   \n",
       "4  fda32eea75f7aab6b81f0654dd2120d0          0                1            7   \n",
       "\n",
       "   numberOfIps  totalOutgoingAmount  avgOutgoingAmount  maxOutgoingAmount  \\\n",
       "0           73               2272.0          98.782609              300.0   \n",
       "1           88                100.0         100.000000              100.0   \n",
       "2          171                206.0         206.000000              206.0   \n",
       "3            6                122.0         122.000000              122.0   \n",
       "4           39                  0.0           0.000000                0.0   \n",
       "\n",
       "   outgoingTransactions  totalIncomingAmount  avgIncomingAmount  \\\n",
       "0                    23              1000.00          83.333333   \n",
       "1                     1               100.00         100.000000   \n",
       "2                     1               206.00         206.000000   \n",
       "3                     1               167.22          83.610000   \n",
       "4                     0               210.00         105.000000   \n",
       "\n",
       "   maxIncomingAmount  incomingTransactions  \n",
       "0             170.00                    12  \n",
       "1             100.00                     1  \n",
       "2             206.00                     1  \n",
       "3             117.22                     2  \n",
       "4             200.00                     2  "
      ]
     },
     "execution_count": 4,
     "metadata": {},
     "output_type": "execute_result"
    }
   ],
   "source": [
    "df.head()"
   ]
  },
  {
   "cell_type": "markdown",
   "metadata": {},
   "source": [
    "We have counted the number of relationships a user has along with some basic statistics around the incoming and outgoing amounts. First, we will evaluate how many users are labeled as fraud risks. Remember, since the run_cypher method returns a Pandas Dataframe, you can utilize all the typical Pandas Dataframe methods."
   ]
  },
  {
   "cell_type": "code",
   "execution_count": 5,
   "metadata": {},
   "outputs": [
    {
     "data": {
      "text/html": [
       "<div>\n",
       "<style scoped>\n",
       "    .dataframe tbody tr th:only-of-type {\n",
       "        vertical-align: middle;\n",
       "    }\n",
       "\n",
       "    .dataframe tbody tr th {\n",
       "        vertical-align: top;\n",
       "    }\n",
       "\n",
       "    .dataframe thead th {\n",
       "        text-align: right;\n",
       "    }\n",
       "</style>\n",
       "<table border=\"1\" class=\"dataframe\">\n",
       "  <thead>\n",
       "    <tr style=\"text-align: right;\">\n",
       "      <th></th>\n",
       "      <th>fraudRisk</th>\n",
       "      <th>0</th>\n",
       "    </tr>\n",
       "  </thead>\n",
       "  <tbody>\n",
       "    <tr>\n",
       "      <th>0</th>\n",
       "      <td>0</td>\n",
       "      <td>33521</td>\n",
       "    </tr>\n",
       "    <tr>\n",
       "      <th>1</th>\n",
       "      <td>1</td>\n",
       "      <td>211</td>\n",
       "    </tr>\n",
       "  </tbody>\n",
       "</table>\n",
       "</div>"
      ],
      "text/plain": [
       "   fraudRisk      0\n",
       "0          0  33521\n",
       "1          1    211"
      ]
     },
     "execution_count": 5,
     "metadata": {},
     "output_type": "execute_result"
    }
   ],
   "source": [
    "df.groupby('fraudRisk').size().reset_index()"
   ]
  },
  {
   "cell_type": "markdown",
   "metadata": {},
   "source": [
    "As is typical with the fraud detection scenario, the dataset is heavily imbalanced. One could say that we are searching for a needle in a haystack. Next, we will use the Pandas `describe` method to evaluate value distributions."
   ]
  },
  {
   "cell_type": "code",
   "execution_count": 6,
   "metadata": {},
   "outputs": [
    {
     "data": {
      "text/html": [
       "<div>\n",
       "<style scoped>\n",
       "    .dataframe tbody tr th:only-of-type {\n",
       "        vertical-align: middle;\n",
       "    }\n",
       "\n",
       "    .dataframe tbody tr th {\n",
       "        vertical-align: top;\n",
       "    }\n",
       "\n",
       "    .dataframe thead th {\n",
       "        text-align: right;\n",
       "    }\n",
       "</style>\n",
       "<table border=\"1\" class=\"dataframe\">\n",
       "  <thead>\n",
       "    <tr style=\"text-align: right;\">\n",
       "      <th></th>\n",
       "      <th>fraudRisk</th>\n",
       "      <th>numberOfDevices</th>\n",
       "      <th>numberOfCCs</th>\n",
       "      <th>numberOfIps</th>\n",
       "      <th>totalOutgoingAmount</th>\n",
       "      <th>avgOutgoingAmount</th>\n",
       "      <th>maxOutgoingAmount</th>\n",
       "      <th>outgoingTransactions</th>\n",
       "      <th>totalIncomingAmount</th>\n",
       "      <th>avgIncomingAmount</th>\n",
       "      <th>maxIncomingAmount</th>\n",
       "      <th>incomingTransactions</th>\n",
       "    </tr>\n",
       "  </thead>\n",
       "  <tbody>\n",
       "    <tr>\n",
       "      <th>count</th>\n",
       "      <td>33732.000000</td>\n",
       "      <td>33732.000000</td>\n",
       "      <td>33732.000000</td>\n",
       "      <td>33732.000000</td>\n",
       "      <td>3.373200e+04</td>\n",
       "      <td>33732.000000</td>\n",
       "      <td>33732.000000</td>\n",
       "      <td>33732.000000</td>\n",
       "      <td>33732.000000</td>\n",
       "      <td>33732.000000</td>\n",
       "      <td>33732.000000</td>\n",
       "      <td>33732.000000</td>\n",
       "    </tr>\n",
       "    <tr>\n",
       "      <th>mean</th>\n",
       "      <td>0.006255</td>\n",
       "      <td>1.631270</td>\n",
       "      <td>3.796573</td>\n",
       "      <td>44.140549</td>\n",
       "      <td>1.076764e+03</td>\n",
       "      <td>125.803403</td>\n",
       "      <td>216.387065</td>\n",
       "      <td>3.048500</td>\n",
       "      <td>1076.764243</td>\n",
       "      <td>140.392911</td>\n",
       "      <td>233.734348</td>\n",
       "      <td>3.048500</td>\n",
       "    </tr>\n",
       "    <tr>\n",
       "      <th>std</th>\n",
       "      <td>0.078843</td>\n",
       "      <td>1.663217</td>\n",
       "      <td>4.549674</td>\n",
       "      <td>60.580664</td>\n",
       "      <td>1.155846e+04</td>\n",
       "      <td>393.291299</td>\n",
       "      <td>673.616348</td>\n",
       "      <td>15.062772</td>\n",
       "      <td>10055.629996</td>\n",
       "      <td>401.208172</td>\n",
       "      <td>683.305918</td>\n",
       "      <td>11.584737</td>\n",
       "    </tr>\n",
       "    <tr>\n",
       "      <th>min</th>\n",
       "      <td>0.000000</td>\n",
       "      <td>0.000000</td>\n",
       "      <td>0.000000</td>\n",
       "      <td>0.000000</td>\n",
       "      <td>0.000000e+00</td>\n",
       "      <td>0.000000</td>\n",
       "      <td>0.000000</td>\n",
       "      <td>0.000000</td>\n",
       "      <td>0.000000</td>\n",
       "      <td>0.000000</td>\n",
       "      <td>0.000000</td>\n",
       "      <td>0.000000</td>\n",
       "    </tr>\n",
       "    <tr>\n",
       "      <th>25%</th>\n",
       "      <td>0.000000</td>\n",
       "      <td>1.000000</td>\n",
       "      <td>1.000000</td>\n",
       "      <td>8.000000</td>\n",
       "      <td>0.000000e+00</td>\n",
       "      <td>0.000000</td>\n",
       "      <td>0.000000</td>\n",
       "      <td>0.000000</td>\n",
       "      <td>5.000000</td>\n",
       "      <td>5.000000</td>\n",
       "      <td>5.000000</td>\n",
       "      <td>1.000000</td>\n",
       "    </tr>\n",
       "    <tr>\n",
       "      <th>50%</th>\n",
       "      <td>0.000000</td>\n",
       "      <td>1.000000</td>\n",
       "      <td>3.000000</td>\n",
       "      <td>22.000000</td>\n",
       "      <td>5.000000e+00</td>\n",
       "      <td>5.000000</td>\n",
       "      <td>5.000000</td>\n",
       "      <td>1.000000</td>\n",
       "      <td>15.000000</td>\n",
       "      <td>10.000000</td>\n",
       "      <td>10.000000</td>\n",
       "      <td>1.000000</td>\n",
       "    </tr>\n",
       "    <tr>\n",
       "      <th>75%</th>\n",
       "      <td>0.000000</td>\n",
       "      <td>2.000000</td>\n",
       "      <td>5.000000</td>\n",
       "      <td>55.000000</td>\n",
       "      <td>1.540000e+02</td>\n",
       "      <td>97.500000</td>\n",
       "      <td>120.712500</td>\n",
       "      <td>2.000000</td>\n",
       "      <td>184.000000</td>\n",
       "      <td>103.850000</td>\n",
       "      <td>149.000000</td>\n",
       "      <td>2.000000</td>\n",
       "    </tr>\n",
       "    <tr>\n",
       "      <th>max</th>\n",
       "      <td>1.000000</td>\n",
       "      <td>65.000000</td>\n",
       "      <td>418.000000</td>\n",
       "      <td>849.000000</td>\n",
       "      <td>1.065990e+06</td>\n",
       "      <td>6250.000000</td>\n",
       "      <td>6750.000000</td>\n",
       "      <td>1073.000000</td>\n",
       "      <td>498911.090000</td>\n",
       "      <td>6250.000000</td>\n",
       "      <td>6750.000000</td>\n",
       "      <td>564.000000</td>\n",
       "    </tr>\n",
       "  </tbody>\n",
       "</table>\n",
       "</div>"
      ],
      "text/plain": [
       "          fraudRisk  numberOfDevices   numberOfCCs   numberOfIps  \\\n",
       "count  33732.000000     33732.000000  33732.000000  33732.000000   \n",
       "mean       0.006255         1.631270      3.796573     44.140549   \n",
       "std        0.078843         1.663217      4.549674     60.580664   \n",
       "min        0.000000         0.000000      0.000000      0.000000   \n",
       "25%        0.000000         1.000000      1.000000      8.000000   \n",
       "50%        0.000000         1.000000      3.000000     22.000000   \n",
       "75%        0.000000         2.000000      5.000000     55.000000   \n",
       "max        1.000000        65.000000    418.000000    849.000000   \n",
       "\n",
       "       totalOutgoingAmount  avgOutgoingAmount  maxOutgoingAmount  \\\n",
       "count         3.373200e+04       33732.000000       33732.000000   \n",
       "mean          1.076764e+03         125.803403         216.387065   \n",
       "std           1.155846e+04         393.291299         673.616348   \n",
       "min           0.000000e+00           0.000000           0.000000   \n",
       "25%           0.000000e+00           0.000000           0.000000   \n",
       "50%           5.000000e+00           5.000000           5.000000   \n",
       "75%           1.540000e+02          97.500000         120.712500   \n",
       "max           1.065990e+06        6250.000000        6750.000000   \n",
       "\n",
       "       outgoingTransactions  totalIncomingAmount  avgIncomingAmount  \\\n",
       "count          33732.000000         33732.000000       33732.000000   \n",
       "mean               3.048500          1076.764243         140.392911   \n",
       "std               15.062772         10055.629996         401.208172   \n",
       "min                0.000000             0.000000           0.000000   \n",
       "25%                0.000000             5.000000           5.000000   \n",
       "50%                1.000000            15.000000          10.000000   \n",
       "75%                2.000000           184.000000         103.850000   \n",
       "max             1073.000000        498911.090000        6250.000000   \n",
       "\n",
       "       maxIncomingAmount  incomingTransactions  \n",
       "count       33732.000000          33732.000000  \n",
       "mean          233.734348              3.048500  \n",
       "std           683.305918             11.584737  \n",
       "min             0.000000              0.000000  \n",
       "25%             5.000000              1.000000  \n",
       "50%            10.000000              1.000000  \n",
       "75%           149.000000              2.000000  \n",
       "max          6750.000000            564.000000  "
      ]
     },
     "execution_count": 6,
     "metadata": {},
     "output_type": "execute_result"
    }
   ],
   "source": [
    "df.describe()"
   ]
  },
  {
   "cell_type": "markdown",
   "metadata": {},
   "source": [
    "Users have, on average used 1.6 devices on the platform, with one outlier having used 65 devices. What's a bit surprising is that the average number of credit cards used is almost 4. While I think that perhaps the high average of credit cards could be attributed to credit cards expiring, and therefore a user needs to add more than one credit card. However, it's still a higher average than I would expect. Both the total incoming and outgoing average amounts are around 1000, so we are not dealing with many high-value transactions. In addition, the median outgoing payment is only 5, while the incoming median amount is 15. Of course, there are some outliers as always, as one user has send a bit more than a million through the platform.\n",
    "\n",
    "Before we move on to training the classification model, we will also evaluate the correlation between features."
   ]
  },
  {
   "cell_type": "code",
   "execution_count": 7,
   "metadata": {},
   "outputs": [
    {
     "data": {
      "text/plain": [
       "<matplotlib.axes._subplots.AxesSubplot at 0x7fa6b594bd10>"
      ]
     },
     "execution_count": 7,
     "metadata": {},
     "output_type": "execute_result"
    },
    {
     "data": {
      "image/png": "[encoded data removed]",
      "text/plain": [
       "<Figure size 1152x432 with 2 Axes>"
      ]
     },
     "metadata": {
      "needs_background": "light"
     },
     "output_type": "display_data"
    }
   ],
   "source": [
    "plt.figure(figsize=(16, 6))\n",
    "\n",
    "corr = df.corr()\n",
    "sns.heatmap(corr, \n",
    "            xticklabels=corr.columns.values,\n",
    "            yticklabels=corr.columns.values,\n",
    "            cmap=\"Blues\",\n",
    "            annot=True)"
   ]
  },
  {
   "cell_type": "code",
   "execution_count": 29,
   "metadata": {},
   "outputs": [
    {
     "name": "stdout",
     "output_type": "stream",
     "text": [
      "Requirement already satisfied: sklearn in /home/dev/.local/lib/python3.7/site-packages (0.0)\n",
      "Requirement already satisfied: scikit-learn in /home/dev/anaconda3/lib/python3.7/site-packages (from sklearn) (0.22.1)\n",
      "Requirement already satisfied: numpy>=1.11.0 in /home/dev/anaconda3/lib/python3.7/site-packages (from scikit-learn->sklearn) (1.19.5)\n",
      "Requirement already satisfied: joblib>=0.11 in /home/dev/anaconda3/lib/python3.7/site-packages (from scikit-learn->sklearn) (0.14.1)\n",
      "Requirement already satisfied: scipy>=0.17.0 in /home/dev/anaconda3/lib/python3.7/site-packages (from scikit-learn->sklearn) (1.5.1)\n"
     ]
    }
   ],
   "source": [
    "!pip install sklearn"
   ]
  },
  {
   "cell_type": "markdown",
   "metadata": {},
   "source": [
    "It seems that none of the features correlate with the fraud risk label. As one would imagine, the number of transactions correlates with the total amount sent or received. The only other thing that I find interesting is that the number of credit cards correlates with the number of IPs.\n",
    "# Training a baseline classification model\n",
    "Now it's time to train a baseline classification model based on the non-graph-based features we pulled from the database. As part of the fraud detection use case, we will try to predict the fraud risk label. Since the dataset is heavily imbalanced, we will use an oversampling technique SMOTE on the training data. We will use Random Forest Classifier to keep things simple as the scope of this post is not to select the best ML model and/or their hyper-parameters.\n",
    "\n",
    "I've prepared a function that will help us evaluate the model by visualizing the confusion matrix and the ROC curve."
   ]
  },
  {
   "cell_type": "code",
   "execution_count": 9,
   "metadata": {},
   "outputs": [],
   "source": [
    "import pandas as pd\n",
    "# impory\n",
    "# import sklearn.neighbors._base\n",
    "# sys.modules['sklearn.neighbors.base'] = sklearn.neighbors._base\n",
    "from imblearn.over_sampling import SMOTE\n",
    "from sklearn.preprocessing import LabelBinarizer\n",
    "from sklearn.model_selection import train_test_split\n",
    "from sklearn.metrics import ConfusionMatrixDisplay, RocCurveDisplay\n",
    "\n",
    "from sklearn.ensemble import RandomForestClassifier"
   ]
  },
  {
   "cell_type": "code",
   "execution_count": 10,
   "metadata": {},
   "outputs": [],
   "source": [
    "def feature_importance(columns, classifier):        \n",
    "    features = list(zip(columns, classifier.feature_importances_))\n",
    "    sorted_features = sorted(features, key = lambda x: x[1]*-1)\n",
    "    \n",
    "    keys = [value[0] for value in sorted_features]\n",
    "    values = [value[1] for value in sorted_features]\n",
    "    return pd.DataFrame(data={'feature': keys, 'value': values})\n",
    "\n",
    "def evaluate(df):\n",
    "    df_X = df.drop('fraudRisk', axis=1)\n",
    "    df_y = df[['fraudRisk']]\n",
    "\n",
    "    X = df_X.values\n",
    "    y = df_y.values\n",
    "\n",
    "    y = LabelBinarizer().fit_transform(y)\n",
    "    \n",
    "    # Test/train data split\n",
    "    X_train, X_test, y_train, y_test = train_test_split(X, y, test_size = 0.2, random_state=42, stratify=y)\n",
    "    \n",
    "    # Oversample only the training data\n",
    "    oversample = SMOTE(random_state=42)\n",
    "    X_train, y_train = oversample.fit_resample(X_train, y_train)\n",
    "\n",
    "    # Random forrest classification\n",
    "    model = RandomForestClassifier(n_estimators=500, random_state=42, max_depth=5, bootstrap=True, class_weight='balanced')\n",
    "    model = model.fit(X_train, y_train)\n",
    "    # Evaluate the model\n",
    "    ConfusionMatrixDisplay.from_estimator(model, X_test, y_test, normalize= 'true')\n",
    "    RocCurveDisplay.from_estimator(model, X_test, y_test, name=\"RF Model\")\n",
    "    print(feature_importance(df_X.columns.to_list(), model))"
   ]
  },
  {
   "cell_type": "markdown",
   "metadata": {},
   "source": [
    "Now that we have the data and the code ready, we can go ahead and train the baseline classification model."
   ]
  },
  {
   "cell_type": "code",
   "execution_count": 11,
   "metadata": {},
   "outputs": [
    {
     "name": "stdout",
     "output_type": "stream",
     "text": [
      "                 feature     value\n",
      "0        numberOfDevices  0.360835\n",
      "1   incomingTransactions  0.193416\n",
      "2      maxIncomingAmount  0.106009\n",
      "3    totalIncomingAmount  0.074445\n",
      "4            numberOfCCs  0.072848\n",
      "5      avgIncomingAmount  0.068528\n",
      "6      maxOutgoingAmount  0.025771\n",
      "7      avgOutgoingAmount  0.025304\n",
      "8    totalOutgoingAmount  0.025192\n",
      "9            numberOfIps  0.024789\n",
      "10  outgoingTransactions  0.022863\n"
     ]
    },
    {
     "data": {
      "image/png": "[encoded data removed]",
      "text/plain": [
       "<Figure size 720x432 with 2 Axes>"
      ]
     },
     "metadata": {
      "needs_background": "light"
     },
     "output_type": "display_data"
    },
    {
     "data": {
      "image/png": "[encoded data removed]",
      "text/plain": [
       "<Figure size 720x432 with 1 Axes>"
      ]
     },
     "metadata": {
      "needs_background": "light"
     },
     "output_type": "display_data"
    }
   ],
   "source": [
    "final_df = df[['fraudRisk', 'numberOfDevices', 'numberOfCCs', 'numberOfIps', \n",
    "               'totalOutgoingAmount','maxOutgoingAmount', 'avgOutgoingAmount',\n",
    "               'totalIncomingAmount', 'maxIncomingAmount', 'avgIncomingAmount',\n",
    "               'outgoingTransactions','incomingTransactions']]\n",
    "\n",
    "evaluate(final_df)"
   ]
  },
  {
   "cell_type": "markdown",
   "metadata": {},
   "source": [
    "The baseline model features performed reasonably. As a result, it correctly assigned a fraud risk label to 50% of the actual fraud risks while misclassifying the other half. Around 13% are non-frauds are wrongly classified as frauds. Remember that is quite a considerable number since the heavy data imbalance.\n",
    "\n",
    "The AUC score of the baseline model is 0.72. The higher the AUC score, the better the model can distinguish between positive and negative labels. Lastly, we will look at the feature importance of the model.\n",
    "Interestingly, the most important feature is the number of devices. Not really what one would expect. I would instead think that number of credit cards would have a higher impact. The following three important features are all tied to the count and the amount of the incoming transactions.\n",
    "### Using graph-based features to increase the accuracy of the model\n",
    "In the second part of the post, we will use graph-based features to increase the performance of the classification model. Lately, graph neural networks and various node embedding models are gaining popularity. However, we will keep it simple in this post and not use any of the more complex graph algorithms. Instead, we will use more classical centrality and community detection algorithms to produce features that will increase the accuracy of the classification model.\n",
    "\n",
    "We have a couple of networks in our dataset. First, there is a direct P2P transaction network between users that we can use to extract features that describe users. On the other hand, there are also indirect connections between users, where some users use the same device, IP, or credit card.\n",
    "\n",
    "In our example, we will use the P2P transaction network between users and indirect connections between users who share credit cards as the input to graph algorithms to extract predictive features.\n",
    "Before executing any graph algorithms, we have to project the GDS in-memory graph. We will be using the newly released Graph Data Science Python client to project an in-memory graph. The Python client mimics the GDS Cypher procedure and follows an almost identical syntax. It seems to me the only difference is that we don't prefix the Cypher procedures with the `CALL` operator as we would when, for example, executing graph algorithms in Neo4j Browser.\n",
    "\n",
    "We can use the following command to project User and Card nodes along with the HAS_CC and P2P relationships."
   ]
  },
  {
   "cell_type": "code",
   "execution_count": 12,
   "metadata": {},
   "outputs": [],
   "source": [
    "G, res = gds.graph.project('fraud', ['User', 'Card'], \n",
    "    {'HAS_CC':{\n",
    "       'type':'HAS_CC'\n",
    "    },\n",
    "    'P2P':{\n",
    "       'type':'P2P',\n",
    "       'properties':{\n",
    "          'totalAmount':{\n",
    "             'aggregation':'SUM'\n",
    "          }\n",
    "       }\n",
    "    }})"
   ]
  },
  {
   "cell_type": "markdown",
   "metadata": {},
   "source": [
    "For those of you that have experience with GDS or read my previous blog post, the projection definition is, for the most part, straightforward. The only thing I haven't used in a while is that I have merged parallel P2P relationships into a single relationship during projection and summed their total amount. We merge parallel relationships and sum a specific property of the relationships using the following syntax:\n",
    "\n",
    "```\n",
    "'P2P':{       \n",
    "    'type':'P2P',\n",
    "    'properties':{      \n",
    "        'totalAmount':{\n",
    "             'aggregation':'SUM'          \n",
    "         }       \n",
    "     }    \n",
    "}\n",
    "```\n",
    "\n",
    "With the projected in-memory graph ready, we can go ahead and execute intended graph algorithms.\n",
    "### Weakly connected components\n",
    "We will begin by using the Weakly Connected components (WCC) algorithm. The WCC algorithm is used to find disconnected components or islands within the network.\n",
    "\n",
    "All nodes in a single weakly connected component can reach other nodes in the component when we disregard the direction of the relationship. In our example, we will use the WCC algorithm to find components or islands of users who used the same credit card.\n",
    "\n",
    "We will use the `stream` mode of the WCC algorithm using the GDS Python client, which will return a Pandas Dataframe. Any additional configuration parameters can be added as keyword arguments."
   ]
  },
  {
   "cell_type": "code",
   "execution_count": 17,
   "metadata": {},
   "outputs": [],
   "source": [
    "# User - Card WCC\n",
    "graph_features = gds.wcc.stream(G, nodeLabels=['User', 'Card'], relationshipTypes=['HAS_CC'])"
   ]
  },
  {
   "cell_type": "code",
   "execution_count": 14,
   "metadata": {},
   "outputs": [
    {
     "data": {
      "text/plain": [
       "Graph({'graphName': 'fraud', 'nodeCount': 152550, 'relationshipCount': 171201, 'database': 'neo4j', 'configuration': {'relationshipProjection': {'HAS_CC': {'orientation': 'NATURAL', 'aggregation': 'DEFAULT', 'type': 'HAS_CC', 'properties': {}}, 'P2P': {'orientation': 'NATURAL', 'aggregation': 'DEFAULT', 'type': 'P2P', 'properties': {'totalAmount': {'defaultValue': None, 'property': 'totalAmount', 'aggregation': 'SUM'}}}}, 'nodeProjection': {'User': {'label': 'User', 'properties': {}}, 'Card': {'label': 'Card', 'properties': {}}}, 'relationshipProperties': [], 'creationTime': neo4j.time.DateTime(2023, 1, 27, 13, 48, 59, 349199000, tzinfo=<DstTzInfo 'Asia/Kolkata' IST+5:30:00 STD>), 'validateRelationships': False, 'readConcurrency': 4, 'sudo': False, 'nodeProperties': [], 'username': None}, 'schema': {'relationships': {'HAS_CC': {}, 'P2P': {'totalAmount': 'Float (DefaultValue(NaN), PERSISTENT, Aggregation.SUM)'}}, 'nodes': {'User': {}, 'Card': {}}}, 'memoryUsage': '19 MiB'})"
      ]
     },
     "execution_count": 14,
     "metadata": {},
     "output_type": "execute_result"
    }
   ],
   "source": [
    "G"
   ]
  },
  {
   "cell_type": "markdown",
   "metadata": {},
   "source": [
    "We have used the _nodeLabels_ parameter to specify which nodes the algorithm should consider as well as the _relationshipTypes_ parameter to define relationship types. Using the _relationshipTypes_ parameter, we have defined the algorithm to consider the *HAS_CC* relationships and ignore the *P2P* relationships.\n",
    "As mentioned, the above statement returns a Pandas Dataframe that contains the internal node ids and the component ids."
   ]
  },
  {
   "cell_type": "code",
   "execution_count": 15,
   "metadata": {},
   "outputs": [
    {
     "data": {
      "text/html": [
       "<div>\n",
       "<style scoped>\n",
       "    .dataframe tbody tr th:only-of-type {\n",
       "        vertical-align: middle;\n",
       "    }\n",
       "\n",
       "    .dataframe tbody tr th {\n",
       "        vertical-align: top;\n",
       "    }\n",
       "\n",
       "    .dataframe thead th {\n",
       "        text-align: right;\n",
       "    }\n",
       "</style>\n",
       "<table border=\"1\" class=\"dataframe\">\n",
       "  <thead>\n",
       "    <tr style=\"text-align: right;\">\n",
       "      <th></th>\n",
       "      <th>nodeId</th>\n",
       "      <th>componentId</th>\n",
       "    </tr>\n",
       "  </thead>\n",
       "  <tbody>\n",
       "    <tr>\n",
       "      <th>0</th>\n",
       "      <td>0</td>\n",
       "      <td>0</td>\n",
       "    </tr>\n",
       "    <tr>\n",
       "      <th>1</th>\n",
       "      <td>1</td>\n",
       "      <td>1</td>\n",
       "    </tr>\n",
       "    <tr>\n",
       "      <th>2</th>\n",
       "      <td>2</td>\n",
       "      <td>2</td>\n",
       "    </tr>\n",
       "    <tr>\n",
       "      <th>3</th>\n",
       "      <td>3</td>\n",
       "      <td>3</td>\n",
       "    </tr>\n",
       "    <tr>\n",
       "      <th>4</th>\n",
       "      <td>4</td>\n",
       "      <td>4</td>\n",
       "    </tr>\n",
       "  </tbody>\n",
       "</table>\n",
       "</div>"
      ],
      "text/plain": [
       "   nodeId  componentId\n",
       "0       0            0\n",
       "1       1            1\n",
       "2       2            2\n",
       "3       3            3\n",
       "4       4            4"
      ]
     },
     "execution_count": 15,
     "metadata": {},
     "output_type": "execute_result"
    }
   ],
   "source": [
    "graph_features.head()"
   ]
  },
  {
   "cell_type": "markdown",
   "metadata": {},
   "source": [
    "The output of the WCC algorithm will contain both the User and the Card nodes. Since we are only interested in User nodes, we must first retrieve the node labels using the `gds.util.asNodes` method and then filter on the node label."
   ]
  },
  {
   "cell_type": "code",
   "execution_count": 18,
   "metadata": {},
   "outputs": [],
   "source": [
    "# Retrieve node objects from the database\n",
    "graph_features['node_object'] = gds.util.asNodes(graph_features['nodeId'].to_list())\n"
   ]
  },
  {
   "cell_type": "code",
   "execution_count": 22,
   "metadata": {},
   "outputs": [
    {
     "data": {
      "text/plain": [
       "0    (fraudRisk, guid, fraudMoneyTransfer, wccId, m...\n",
       "1    (fraudRisk, guid, fraudMoneyTransfer, wccId, m...\n",
       "2    (fraudRisk, guid, fraudMoneyTransfer, wccId, m...\n",
       "3    (fraudRisk, guid, fraudMoneyTransfer, wccId, m...\n",
       "4    (fraudRisk, guid, fraudMoneyTransfer, wccId, m...\n",
       "Name: node_object, dtype: object"
      ]
     },
     "execution_count": 22,
     "metadata": {},
     "output_type": "execute_result"
    }
   ],
   "source": [
    "graph_features[\"node_object\"].head()"
   ]
  },
  {
   "cell_type": "code",
   "execution_count": 23,
   "metadata": {},
   "outputs": [],
   "source": [
    "# Filter only user nodes\n",
    "graph_features = graph_features[[list(x.labels)[0] == 'User' for x in graph_features['node_object']]]"
   ]
  },
  {
   "cell_type": "code",
   "execution_count": 26,
   "metadata": {},
   "outputs": [
    {
     "name": "stdout",
     "output_type": "stream",
     "text": [
      "frozenset({'User'})\n",
      "frozenset({'User'})\n",
      "frozenset({'User'})\n",
      "frozenset({'User'})\n",
      "frozenset({'User'})\n"
     ]
    }
   ],
   "source": [
    "for x in graph_features['node_object'].head():\n",
    "    print(x.labels)"
   ]
  },
  {
   "cell_type": "code",
   "execution_count": 28,
   "metadata": {},
   "outputs": [
    {
     "data": {
      "text/html": [
       "<div>\n",
       "<style scoped>\n",
       "    .dataframe tbody tr th:only-of-type {\n",
       "        vertical-align: middle;\n",
       "    }\n",
       "\n",
       "    .dataframe tbody tr th {\n",
       "        vertical-align: top;\n",
       "    }\n",
       "\n",
       "    .dataframe thead th {\n",
       "        text-align: right;\n",
       "    }\n",
       "</style>\n",
       "<table border=\"1\" class=\"dataframe\">\n",
       "  <thead>\n",
       "    <tr style=\"text-align: right;\">\n",
       "      <th></th>\n",
       "      <th>nodeId</th>\n",
       "      <th>componentId</th>\n",
       "      <th>node_object</th>\n",
       "      <th>componentSize</th>\n",
       "    </tr>\n",
       "  </thead>\n",
       "  <tbody>\n",
       "    <tr>\n",
       "      <th>0</th>\n",
       "      <td>0</td>\n",
       "      <td>0</td>\n",
       "      <td>(fraudRisk, guid, fraudMoneyTransfer, wccId, m...</td>\n",
       "      <td>2</td>\n",
       "    </tr>\n",
       "    <tr>\n",
       "      <th>1</th>\n",
       "      <td>7419</td>\n",
       "      <td>0</td>\n",
       "      <td>(fraudRisk, guid, fraudMoneyTransfer, wccId, m...</td>\n",
       "      <td>2</td>\n",
       "    </tr>\n",
       "    <tr>\n",
       "      <th>2</th>\n",
       "      <td>1</td>\n",
       "      <td>1</td>\n",
       "      <td>(fraudRisk, guid, fraudMoneyTransfer, wccId, m...</td>\n",
       "      <td>1</td>\n",
       "    </tr>\n",
       "    <tr>\n",
       "      <th>3</th>\n",
       "      <td>2</td>\n",
       "      <td>2</td>\n",
       "      <td>(fraudRisk, guid, fraudMoneyTransfer, wccId, m...</td>\n",
       "      <td>2</td>\n",
       "    </tr>\n",
       "    <tr>\n",
       "      <th>4</th>\n",
       "      <td>6343</td>\n",
       "      <td>2</td>\n",
       "      <td>(fraudRisk, guid, fraudMoneyTransfer, wccId, m...</td>\n",
       "      <td>2</td>\n",
       "    </tr>\n",
       "  </tbody>\n",
       "</table>\n",
       "</div>"
      ],
      "text/plain": [
       "   nodeId  componentId                                        node_object  \\\n",
       "0       0            0  (fraudRisk, guid, fraudMoneyTransfer, wccId, m...   \n",
       "1    7419            0  (fraudRisk, guid, fraudMoneyTransfer, wccId, m...   \n",
       "2       1            1  (fraudRisk, guid, fraudMoneyTransfer, wccId, m...   \n",
       "3       2            2  (fraudRisk, guid, fraudMoneyTransfer, wccId, m...   \n",
       "4    6343            2  (fraudRisk, guid, fraudMoneyTransfer, wccId, m...   \n",
       "\n",
       "   componentSize  \n",
       "0              2  \n",
       "1              2  \n",
       "2              1  \n",
       "3              2  \n",
       "4              2  "
      ]
     },
     "execution_count": 28,
     "metadata": {},
     "output_type": "execute_result"
    }
   ],
   "source": [
    "# Get component sizes\n",
    "graph_features = graph_features.merge(\n",
    "    graph_features.groupby('componentId').size().to_frame('componentSize').reset_index(), on=\"componentId\")\n",
    "graph_features.head()"
   ]
  },
  {
   "cell_type": "markdown",
   "metadata": {},
   "source": [
    "Lastly, we will define two features based on the WCC algorithm results. The *componentSize* feature will contain a value of the users in the component, while the *part_of_community* feature will indicate if the component has more than one member."
   ]
  },
  {
   "cell_type": "code",
   "execution_count": 29,
   "metadata": {},
   "outputs": [],
   "source": [
    "\n",
    "# Define a feature which indicates if the component has more than 1 member\n",
    "graph_features['part_of_community'] = (graph_features['componentSize'] > 1).astype(int)"
   ]
  },
  {
   "cell_type": "markdown",
   "metadata": {},
   "source": [
    "# PageRank centrality\n",
    "Next, we will use the PageRank centrality of the P2P transaction network as one of our features. PageRank algorithm is commonly used to find the most important or influential nodes in the network. The algorithm considers every relationship as a vote of confidence or importance, and then the nodes deemed the most important by other important nodes rank the highest. Unlike the degree centrality, which only considers the number of incoming relationships, the PageRank algorithm also considers the importance of nodes pointing to it. A simple example is that being a friend with the president of the country or a company gives you more influence than being friends with an intern. Unless that intern happens to be a family relative to the CEO.\n",
    "\n",
    "You can execute the `stream` mode of the weighted variant of the PageRank algorithm using the following Python code."
   ]
  },
  {
   "cell_type": "code",
   "execution_count": 30,
   "metadata": {},
   "outputs": [],
   "source": [
    "# Pagerank centrality\n",
    "pr = gds.pageRank.stream(G, nodeLabels=['User'], \n",
    "    relationshipTypes=['P2P'], relationshipWeightProperty='totalAmount')\n"
   ]
  },
  {
   "cell_type": "code",
   "execution_count": 31,
   "metadata": {},
   "outputs": [
    {
     "data": {
      "text/plain": [
       "0    0.680221\n",
       "1    1.073887\n",
       "2    0.961240\n",
       "3    0.197473\n",
       "4    0.277943\n",
       "Name: score, dtype: float64"
      ]
     },
     "execution_count": 31,
     "metadata": {},
     "output_type": "execute_result"
    }
   ],
   "source": [
    "# pr['pagerank'] = pr['score']\n",
    "# graph_features = graph_features.merge(pr[['nodeId', 'pagerank']], on='nodeId')\n",
    "pr['score'].head()"
   ]
  },
  {
   "cell_type": "code",
   "execution_count": 35,
   "metadata": {},
   "outputs": [
    {
     "data": {
      "text/html": [
       "<div>\n",
       "<style scoped>\n",
       "    .dataframe tbody tr th:only-of-type {\n",
       "        vertical-align: middle;\n",
       "    }\n",
       "\n",
       "    .dataframe tbody tr th {\n",
       "        vertical-align: top;\n",
       "    }\n",
       "\n",
       "    .dataframe thead th {\n",
       "        text-align: right;\n",
       "    }\n",
       "</style>\n",
       "<table border=\"1\" class=\"dataframe\">\n",
       "  <thead>\n",
       "    <tr style=\"text-align: right;\">\n",
       "      <th></th>\n",
       "      <th>nodeId</th>\n",
       "      <th>score</th>\n",
       "    </tr>\n",
       "  </thead>\n",
       "  <tbody>\n",
       "    <tr>\n",
       "      <th>0</th>\n",
       "      <td>0</td>\n",
       "      <td>0.680221</td>\n",
       "    </tr>\n",
       "    <tr>\n",
       "      <th>1</th>\n",
       "      <td>1</td>\n",
       "      <td>1.073887</td>\n",
       "    </tr>\n",
       "    <tr>\n",
       "      <th>2</th>\n",
       "      <td>2</td>\n",
       "      <td>0.961240</td>\n",
       "    </tr>\n",
       "    <tr>\n",
       "      <th>3</th>\n",
       "      <td>3</td>\n",
       "      <td>0.197473</td>\n",
       "    </tr>\n",
       "    <tr>\n",
       "      <th>4</th>\n",
       "      <td>4</td>\n",
       "      <td>0.277943</td>\n",
       "    </tr>\n",
       "  </tbody>\n",
       "</table>\n",
       "</div>"
      ],
      "text/plain": [
       "   nodeId     score\n",
       "0       0  0.680221\n",
       "1       1  1.073887\n",
       "2       2  0.961240\n",
       "3       3  0.197473\n",
       "4       4  0.277943"
      ]
     },
     "execution_count": 35,
     "metadata": {},
     "output_type": "execute_result"
    }
   ],
   "source": [
    "pr.head()"
   ]
  },
  {
   "cell_type": "code",
   "execution_count": 36,
   "metadata": {},
   "outputs": [],
   "source": [
    "pr['pagerank'] = pr['score']\n",
    "graph_features = graph_features.merge(pr[['nodeId', 'pagerank']], on='nodeId')"
   ]
  },
  {
   "cell_type": "code",
   "execution_count": 37,
   "metadata": {},
   "outputs": [
    {
     "data": {
      "text/html": [
       "<div>\n",
       "<style scoped>\n",
       "    .dataframe tbody tr th:only-of-type {\n",
       "        vertical-align: middle;\n",
       "    }\n",
       "\n",
       "    .dataframe tbody tr th {\n",
       "        vertical-align: top;\n",
       "    }\n",
       "\n",
       "    .dataframe thead th {\n",
       "        text-align: right;\n",
       "    }\n",
       "</style>\n",
       "<table border=\"1\" class=\"dataframe\">\n",
       "  <thead>\n",
       "    <tr style=\"text-align: right;\">\n",
       "      <th></th>\n",
       "      <th>nodeId</th>\n",
       "      <th>componentId</th>\n",
       "      <th>node_object</th>\n",
       "      <th>componentSize</th>\n",
       "      <th>part_of_community</th>\n",
       "      <th>pagerank</th>\n",
       "    </tr>\n",
       "  </thead>\n",
       "  <tbody>\n",
       "    <tr>\n",
       "      <th>0</th>\n",
       "      <td>0</td>\n",
       "      <td>0</td>\n",
       "      <td>(fraudRisk, guid, fraudMoneyTransfer, wccId, m...</td>\n",
       "      <td>2</td>\n",
       "      <td>1</td>\n",
       "      <td>0.680221</td>\n",
       "    </tr>\n",
       "    <tr>\n",
       "      <th>1</th>\n",
       "      <td>7419</td>\n",
       "      <td>0</td>\n",
       "      <td>(fraudRisk, guid, fraudMoneyTransfer, wccId, m...</td>\n",
       "      <td>2</td>\n",
       "      <td>1</td>\n",
       "      <td>0.337819</td>\n",
       "    </tr>\n",
       "    <tr>\n",
       "      <th>2</th>\n",
       "      <td>1</td>\n",
       "      <td>1</td>\n",
       "      <td>(fraudRisk, guid, fraudMoneyTransfer, wccId, m...</td>\n",
       "      <td>1</td>\n",
       "      <td>0</td>\n",
       "      <td>1.073887</td>\n",
       "    </tr>\n",
       "    <tr>\n",
       "      <th>3</th>\n",
       "      <td>2</td>\n",
       "      <td>2</td>\n",
       "      <td>(fraudRisk, guid, fraudMoneyTransfer, wccId, m...</td>\n",
       "      <td>2</td>\n",
       "      <td>1</td>\n",
       "      <td>0.961240</td>\n",
       "    </tr>\n",
       "    <tr>\n",
       "      <th>4</th>\n",
       "      <td>6343</td>\n",
       "      <td>2</td>\n",
       "      <td>(fraudRisk, guid, fraudMoneyTransfer, wccId, m...</td>\n",
       "      <td>2</td>\n",
       "      <td>1</td>\n",
       "      <td>0.961240</td>\n",
       "    </tr>\n",
       "  </tbody>\n",
       "</table>\n",
       "</div>"
      ],
      "text/plain": [
       "   nodeId  componentId                                        node_object  \\\n",
       "0       0            0  (fraudRisk, guid, fraudMoneyTransfer, wccId, m...   \n",
       "1    7419            0  (fraudRisk, guid, fraudMoneyTransfer, wccId, m...   \n",
       "2       1            1  (fraudRisk, guid, fraudMoneyTransfer, wccId, m...   \n",
       "3       2            2  (fraudRisk, guid, fraudMoneyTransfer, wccId, m...   \n",
       "4    6343            2  (fraudRisk, guid, fraudMoneyTransfer, wccId, m...   \n",
       "\n",
       "   componentSize  part_of_community  pagerank  \n",
       "0              2                  1  0.680221  \n",
       "1              2                  1  0.337819  \n",
       "2              1                  0  1.073887  \n",
       "3              2                  1  0.961240  \n",
       "4              2                  1  0.961240  "
      ]
     },
     "execution_count": 37,
     "metadata": {},
     "output_type": "execute_result"
    }
   ],
   "source": [
    "graph_features.head()"
   ]
  },
  {
   "cell_type": "markdown",
   "metadata": {},
   "source": [
    "This code first executes the stream mode of the PageRank algorithm, which returns the results in the form of the Pandas Dataframe. Using the *nodeLabels* parameter, we specify that the algorithm should only consider User nodes. Additionally, we use the relationshipTypes parameter to use only the *P2P* relationships as input. Lastly, we merge the new pagerank score column to the graph_features dataframe.\n",
    "# Closeness centrality\n",
    "The last feature we will use is the Closeness centrality. The Closeness centrality algorithm evaluates how close a node is to all the other nodes in the network. Essentially, the algorithm results inform us which nodes can reach all the other nodes in the network the fastest.\n",
    "\n",
    "The syntax to execute the Closeness centrality and merge the results to the graph_features data frame is almost identical as the PageRank example."
   ]
  },
  {
   "cell_type": "code",
   "execution_count": null,
   "metadata": {},
   "outputs": [],
   "source": []
  },
  {
   "cell_type": "code",
   "execution_count": 38,
   "metadata": {},
   "outputs": [],
   "source": [
    "# Closeness centrality\n",
    "bc = gds.beta.closeness.stream(G, nodeLabels=['User'], relationshipTypes=['P2P'])\n",
    "bc['closeness'] = bc['score']\n",
    "graph_features = graph_features.merge(bc[['nodeId', 'closeness']], on='nodeId')\n"
   ]
  },
  {
   "cell_type": "code",
   "execution_count": 39,
   "metadata": {},
   "outputs": [
    {
     "data": {
      "text/html": [
       "<div>\n",
       "<style scoped>\n",
       "    .dataframe tbody tr th:only-of-type {\n",
       "        vertical-align: middle;\n",
       "    }\n",
       "\n",
       "    .dataframe tbody tr th {\n",
       "        vertical-align: top;\n",
       "    }\n",
       "\n",
       "    .dataframe thead th {\n",
       "        text-align: right;\n",
       "    }\n",
       "</style>\n",
       "<table border=\"1\" class=\"dataframe\">\n",
       "  <thead>\n",
       "    <tr style=\"text-align: right;\">\n",
       "      <th></th>\n",
       "      <th>nodeId</th>\n",
       "      <th>componentId</th>\n",
       "      <th>node_object</th>\n",
       "      <th>componentSize</th>\n",
       "      <th>part_of_community</th>\n",
       "      <th>pagerank</th>\n",
       "      <th>closeness</th>\n",
       "    </tr>\n",
       "  </thead>\n",
       "  <tbody>\n",
       "    <tr>\n",
       "      <th>0</th>\n",
       "      <td>0</td>\n",
       "      <td>0</td>\n",
       "      <td>(fraudRisk, guid, fraudMoneyTransfer, wccId, m...</td>\n",
       "      <td>2</td>\n",
       "      <td>1</td>\n",
       "      <td>0.680221</td>\n",
       "      <td>0.163444</td>\n",
       "    </tr>\n",
       "    <tr>\n",
       "      <th>1</th>\n",
       "      <td>7419</td>\n",
       "      <td>0</td>\n",
       "      <td>(fraudRisk, guid, fraudMoneyTransfer, wccId, m...</td>\n",
       "      <td>2</td>\n",
       "      <td>1</td>\n",
       "      <td>0.337819</td>\n",
       "      <td>0.151806</td>\n",
       "    </tr>\n",
       "    <tr>\n",
       "      <th>2</th>\n",
       "      <td>1</td>\n",
       "      <td>1</td>\n",
       "      <td>(fraudRisk, guid, fraudMoneyTransfer, wccId, m...</td>\n",
       "      <td>1</td>\n",
       "      <td>0</td>\n",
       "      <td>1.073887</td>\n",
       "      <td>0.075315</td>\n",
       "    </tr>\n",
       "    <tr>\n",
       "      <th>3</th>\n",
       "      <td>2</td>\n",
       "      <td>2</td>\n",
       "      <td>(fraudRisk, guid, fraudMoneyTransfer, wccId, m...</td>\n",
       "      <td>2</td>\n",
       "      <td>1</td>\n",
       "      <td>0.961240</td>\n",
       "      <td>1.000000</td>\n",
       "    </tr>\n",
       "    <tr>\n",
       "      <th>4</th>\n",
       "      <td>6343</td>\n",
       "      <td>2</td>\n",
       "      <td>(fraudRisk, guid, fraudMoneyTransfer, wccId, m...</td>\n",
       "      <td>2</td>\n",
       "      <td>1</td>\n",
       "      <td>0.961240</td>\n",
       "      <td>1.000000</td>\n",
       "    </tr>\n",
       "  </tbody>\n",
       "</table>\n",
       "</div>"
      ],
      "text/plain": [
       "   nodeId  componentId                                        node_object  \\\n",
       "0       0            0  (fraudRisk, guid, fraudMoneyTransfer, wccId, m...   \n",
       "1    7419            0  (fraudRisk, guid, fraudMoneyTransfer, wccId, m...   \n",
       "2       1            1  (fraudRisk, guid, fraudMoneyTransfer, wccId, m...   \n",
       "3       2            2  (fraudRisk, guid, fraudMoneyTransfer, wccId, m...   \n",
       "4    6343            2  (fraudRisk, guid, fraudMoneyTransfer, wccId, m...   \n",
       "\n",
       "   componentSize  part_of_community  pagerank  closeness  \n",
       "0              2                  1  0.680221   0.163444  \n",
       "1              2                  1  0.337819   0.151806  \n",
       "2              1                  0  1.073887   0.075315  \n",
       "3              2                  1  0.961240   1.000000  \n",
       "4              2                  1  0.961240   1.000000  "
      ]
     },
     "execution_count": 39,
     "metadata": {},
     "output_type": "execute_result"
    }
   ],
   "source": [
    "graph_features.head()"
   ]
  },
  {
   "cell_type": "code",
   "execution_count": 41,
   "metadata": {},
   "outputs": [
    {
     "data": {
      "text/plain": [
       "['6f5ff01e3c3d9213b330c1a36e4e0d56',\n",
       " '1e84798cac010c18f058c41d103f2076',\n",
       " '42489b0de3619b7558c170791fda29c3',\n",
       " '227146a1ca295356b58e812e00490df5',\n",
       " 'ad9203327f289fa513763a4760914e0c']"
      ]
     },
     "execution_count": 41,
     "metadata": {},
     "output_type": "execute_result"
    }
   ],
   "source": [
    "[el.get('guid') for el in graph_features['node_object'].head()]"
   ]
  },
  {
   "cell_type": "markdown",
   "metadata": {},
   "source": [
    "### Combine baseline and graph features\n",
    "Before we can train the new classification model, we have to combine the original dataframe that contains the baseline features with the graph_feature dataframe that includes the graph-based features."
   ]
  },
  {
   "cell_type": "code",
   "execution_count": 42,
   "metadata": {},
   "outputs": [],
   "source": [
    "# Get user ids\n",
    "graph_features['user_id'] = [el.get('guid') for el in graph_features['node_object']]\n",
    "# Merge to original df\n",
    "df = df.merge(graph_features[['user_id', 'componentSize', 'part_of_community', 'pagerank', 'closeness']], on='user_id')"
   ]
  },
  {
   "cell_type": "code",
   "execution_count": 43,
   "metadata": {},
   "outputs": [
    {
     "data": {
      "text/html": [
       "<div>\n",
       "<style scoped>\n",
       "    .dataframe tbody tr th:only-of-type {\n",
       "        vertical-align: middle;\n",
       "    }\n",
       "\n",
       "    .dataframe tbody tr th {\n",
       "        vertical-align: top;\n",
       "    }\n",
       "\n",
       "    .dataframe thead th {\n",
       "        text-align: right;\n",
       "    }\n",
       "</style>\n",
       "<table border=\"1\" class=\"dataframe\">\n",
       "  <thead>\n",
       "    <tr style=\"text-align: right;\">\n",
       "      <th></th>\n",
       "      <th>user_id</th>\n",
       "      <th>fraudRisk</th>\n",
       "      <th>numberOfDevices</th>\n",
       "      <th>numberOfCCs</th>\n",
       "      <th>numberOfIps</th>\n",
       "      <th>totalOutgoingAmount</th>\n",
       "      <th>avgOutgoingAmount</th>\n",
       "      <th>maxOutgoingAmount</th>\n",
       "      <th>outgoingTransactions</th>\n",
       "      <th>totalIncomingAmount</th>\n",
       "      <th>avgIncomingAmount</th>\n",
       "      <th>maxIncomingAmount</th>\n",
       "      <th>incomingTransactions</th>\n",
       "      <th>componentSize</th>\n",
       "      <th>part_of_community</th>\n",
       "      <th>pagerank</th>\n",
       "      <th>closeness</th>\n",
       "    </tr>\n",
       "  </thead>\n",
       "  <tbody>\n",
       "    <tr>\n",
       "      <th>0</th>\n",
       "      <td>6f5ff01e3c3d9213b330c1a36e4e0d56</td>\n",
       "      <td>0</td>\n",
       "      <td>1</td>\n",
       "      <td>5</td>\n",
       "      <td>73</td>\n",
       "      <td>2272.0</td>\n",
       "      <td>98.782609</td>\n",
       "      <td>300.0</td>\n",
       "      <td>23</td>\n",
       "      <td>1000.00</td>\n",
       "      <td>83.333333</td>\n",
       "      <td>170.00</td>\n",
       "      <td>12</td>\n",
       "      <td>2</td>\n",
       "      <td>1</td>\n",
       "      <td>0.680221</td>\n",
       "      <td>0.163444</td>\n",
       "    </tr>\n",
       "    <tr>\n",
       "      <th>1</th>\n",
       "      <td>42489b0de3619b7558c170791fda29c3</td>\n",
       "      <td>0</td>\n",
       "      <td>1</td>\n",
       "      <td>8</td>\n",
       "      <td>88</td>\n",
       "      <td>100.0</td>\n",
       "      <td>100.000000</td>\n",
       "      <td>100.0</td>\n",
       "      <td>1</td>\n",
       "      <td>100.00</td>\n",
       "      <td>100.000000</td>\n",
       "      <td>100.00</td>\n",
       "      <td>1</td>\n",
       "      <td>1</td>\n",
       "      <td>0</td>\n",
       "      <td>1.073887</td>\n",
       "      <td>0.075315</td>\n",
       "    </tr>\n",
       "    <tr>\n",
       "      <th>2</th>\n",
       "      <td>227146a1ca295356b58e812e00490df5</td>\n",
       "      <td>0</td>\n",
       "      <td>1</td>\n",
       "      <td>13</td>\n",
       "      <td>171</td>\n",
       "      <td>206.0</td>\n",
       "      <td>206.000000</td>\n",
       "      <td>206.0</td>\n",
       "      <td>1</td>\n",
       "      <td>206.00</td>\n",
       "      <td>206.000000</td>\n",
       "      <td>206.00</td>\n",
       "      <td>1</td>\n",
       "      <td>2</td>\n",
       "      <td>1</td>\n",
       "      <td>0.961240</td>\n",
       "      <td>1.000000</td>\n",
       "    </tr>\n",
       "    <tr>\n",
       "      <th>3</th>\n",
       "      <td>665c3c081e8993803548d971b4e1814b</td>\n",
       "      <td>0</td>\n",
       "      <td>1</td>\n",
       "      <td>2</td>\n",
       "      <td>6</td>\n",
       "      <td>122.0</td>\n",
       "      <td>122.000000</td>\n",
       "      <td>122.0</td>\n",
       "      <td>1</td>\n",
       "      <td>167.22</td>\n",
       "      <td>83.610000</td>\n",
       "      <td>117.22</td>\n",
       "      <td>2</td>\n",
       "      <td>2</td>\n",
       "      <td>1</td>\n",
       "      <td>0.197473</td>\n",
       "      <td>0.137684</td>\n",
       "    </tr>\n",
       "    <tr>\n",
       "      <th>4</th>\n",
       "      <td>fda32eea75f7aab6b81f0654dd2120d0</td>\n",
       "      <td>0</td>\n",
       "      <td>1</td>\n",
       "      <td>7</td>\n",
       "      <td>39</td>\n",
       "      <td>0.0</td>\n",
       "      <td>0.000000</td>\n",
       "      <td>0.0</td>\n",
       "      <td>0</td>\n",
       "      <td>210.00</td>\n",
       "      <td>105.000000</td>\n",
       "      <td>200.00</td>\n",
       "      <td>2</td>\n",
       "      <td>1</td>\n",
       "      <td>0</td>\n",
       "      <td>0.277943</td>\n",
       "      <td>0.171180</td>\n",
       "    </tr>\n",
       "  </tbody>\n",
       "</table>\n",
       "</div>"
      ],
      "text/plain": [
       "                            user_id  fraudRisk  numberOfDevices  numberOfCCs  \\\n",
       "0  6f5ff01e3c3d9213b330c1a36e4e0d56          0                1            5   \n",
       "1  42489b0de3619b7558c170791fda29c3          0                1            8   \n",
       "2  227146a1ca295356b58e812e00490df5          0                1           13   \n",
       "3  665c3c081e8993803548d971b4e1814b          0                1            2   \n",
       "4  fda32eea75f7aab6b81f0654dd2120d0          0                1            7   \n",
       "\n",
       "   numberOfIps  totalOutgoingAmount  avgOutgoingAmount  maxOutgoingAmount  \\\n",
       "0           73               2272.0          98.782609              300.0   \n",
       "1           88                100.0         100.000000              100.0   \n",
       "2          171                206.0         206.000000              206.0   \n",
       "3            6                122.0         122.000000              122.0   \n",
       "4           39                  0.0           0.000000                0.0   \n",
       "\n",
       "   outgoingTransactions  totalIncomingAmount  avgIncomingAmount  \\\n",
       "0                    23              1000.00          83.333333   \n",
       "1                     1               100.00         100.000000   \n",
       "2                     1               206.00         206.000000   \n",
       "3                     1               167.22          83.610000   \n",
       "4                     0               210.00         105.000000   \n",
       "\n",
       "   maxIncomingAmount  incomingTransactions  componentSize  part_of_community  \\\n",
       "0             170.00                    12              2                  1   \n",
       "1             100.00                     1              1                  0   \n",
       "2             206.00                     1              2                  1   \n",
       "3             117.22                     2              2                  1   \n",
       "4             200.00                     2              1                  0   \n",
       "\n",
       "   pagerank  closeness  \n",
       "0  0.680221   0.163444  \n",
       "1  1.073887   0.075315  \n",
       "2  0.961240   1.000000  \n",
       "3  0.197473   0.137684  \n",
       "4  0.277943   0.171180  "
      ]
     },
     "execution_count": 43,
     "metadata": {},
     "output_type": "execute_result"
    }
   ],
   "source": [
    "df.head()"
   ]
  },
  {
   "cell_type": "markdown",
   "metadata": {},
   "source": [
    "The original dataframe does not contain the internal node ids, so we must first extract the user ids from the node object column. Next, we can use the user id column to merge the baseline and the graph-based feature dataframes.\n",
    "### Include the graph-based features in the classification model\n",
    "Now we can go ahead and include both the baseline as well as the graph-based features to train the fraud detection classification model."
   ]
  },
  {
   "cell_type": "code",
   "execution_count": 44,
   "metadata": {},
   "outputs": [
    {
     "name": "stdout",
     "output_type": "stream",
     "text": [
      "                 feature     value\n",
      "0          componentSize  0.371820\n",
      "1      part_of_community  0.301243\n",
      "2        numberOfDevices  0.105482\n",
      "3   incomingTransactions  0.060731\n",
      "4    totalIncomingAmount  0.028057\n",
      "5      maxIncomingAmount  0.027178\n",
      "6              closeness  0.026716\n",
      "7      avgIncomingAmount  0.022201\n",
      "8            numberOfCCs  0.013917\n",
      "9               pagerank  0.010389\n",
      "10           numberOfIps  0.009248\n",
      "11  outgoingTransactions  0.005958\n",
      "12     avgOutgoingAmount  0.005938\n",
      "13     maxOutgoingAmount  0.005899\n",
      "14   totalOutgoingAmount  0.005224\n"
     ]
    },
    {
     "data": {
      "image/png": "[encoded data removed]",
      "text/plain": [
       "<Figure size 720x432 with 2 Axes>"
      ]
     },
     "metadata": {
      "needs_background": "light"
     },
     "output_type": "display_data"
    },
    {
     "data": {
      "image/png": "[encoded data removed]",
      "text/plain": [
       "<Figure size 720x432 with 1 Axes>"
      ]
     },
     "metadata": {
      "needs_background": "light"
     },
     "output_type": "display_data"
    }
   ],
   "source": [
    "final_df = df[['fraudRisk','numberOfDevices', 'numberOfCCs', 'numberOfIps', \n",
    "               'totalOutgoingAmount','maxOutgoingAmount', 'avgOutgoingAmount',\n",
    "               'totalIncomingAmount', 'maxIncomingAmount', 'avgIncomingAmount',\n",
    "               'outgoingTransactions','incomingTransactions', 'componentSize', 'part_of_community', \n",
    "               'pagerank', 'closeness']]\n",
    "\n",
    "evaluate(final_df)"
   ]
  },
  {
   "cell_type": "markdown",
   "metadata": {},
   "source": [
    "We can observe that the model correctly classified 79% of fraudsters instead of 50% with the baseline model. However, it also misclassifies fewer non-frauds as frauds. We can observe that the graph-based features helped improve the classification model accuracy. We can also observe that the AUC score has risen from 0.72 to 0.92, which is a considerable increase. Finally, let's evaluate the importance of the graph-based features. While the number of credit cards used by a user might be significant to classify the fraudsters accurately, a far more predictive feature in this dataset is if multiple users and how many used those credit cards. The PageRank and Closeness centrality also added a slight increase in the accuracy, although they are less predictive in this example than the weakly component size"
   ]
  },
  {
   "cell_type": "code",
   "execution_count": 45,
   "metadata": {},
   "outputs": [
    {
     "data": {
      "text/plain": [
       "graphName                                                        fraud\n",
       "database                                                         neo4j\n",
       "memoryUsage                                                           \n",
       "sizeInBytes                                                         -1\n",
       "nodeCount                                                       152550\n",
       "relationshipCount                                               171201\n",
       "configuration        {'relationshipProjection': {'HAS_CC': {'orient...\n",
       "density                                                       0.000007\n",
       "creationTime                       2023-01-27T13:48:59.349199000+05:30\n",
       "modificationTime                   2023-01-27T13:49:02.415219000+05:30\n",
       "schema               {'relationships': {'HAS_CC': {}, 'P2P': {'tota...\n",
       "Name: 0, dtype: object"
      ]
     },
     "execution_count": 45,
     "metadata": {},
     "output_type": "execute_result"
    }
   ],
   "source": [
    "# Drop the projected graph\n",
    "G.drop()"
   ]
  },
  {
   "cell_type": "code",
   "execution_count": null,
   "metadata": {},
   "outputs": [],
   "source": []
  }
 ],
 "metadata": {
  "kernelspec": {
   "display_name": "Python 3 (ipykernel)",
   "language": "python",
   "name": "python3"
  },
  "language_info": {
   "codemirror_mode": {
    "name": "ipython",
    "version": 3
   },
   "file_extension": ".py",
   "mimetype": "text/x-python",
   "name": "python",
   "nbconvert_exporter": "python",
   "pygments_lexer": "ipython3",
   "version": "3.7.6"
  }
 },
 "nbformat": 4,
 "nbformat_minor": 5
}
